{
 "cells": [
  {
   "cell_type": "code",
   "execution_count": 1,
   "metadata": {},
   "outputs": [],
   "source": [
    "from elasticsearch import Elasticsearch\n",
    "import os\n",
    "import glob\n",
    "import PyPDF2\n",
    "import pandas as pd"
   ]
  },
  {
   "cell_type": "code",
   "execution_count": 2,
   "metadata": {},
   "outputs": [],
   "source": [
    "os.chdir(\"C:\\\\tmp\\\\jp\")\n",
    "files=glob.glob(\"*.*\")"
   ]
  },
  {
   "cell_type": "code",
   "execution_count": 3,
   "metadata": {},
   "outputs": [
    {
     "data": {
      "text/plain": [
       "5"
      ]
     },
     "execution_count": 3,
     "metadata": {},
     "output_type": "execute_result"
    }
   ],
   "source": [
    "len(files)"
   ]
  },
  {
   "cell_type": "code",
   "execution_count": 4,
   "metadata": {},
   "outputs": [
    {
     "name": "stdout",
     "output_type": "stream",
     "text": [
      "ACFrOgAHo4sXcSv5qAOuMBr0uEWAOKGCh5NigeYzfP7TjOf7nNJFi7eP4Bjlfp9yGFyB7PiQCcsnNGA7e9AH1_LtGrKgCqCWqmsElMEw20u5aR0gDdBIX9_y36-cpY0=.pdf\n",
      "ACFrOgAI3Y336GlEyJBySMpJQbsxFJY4OLPbBLCV53g7eljlGnyrt2l3B3BApP8Dclnpdpk5Mu8Kn2usHrOzzoHQGXO4HmvgjqWtQLCHsfBEuZPNA1Nrf7ufW-NlDHQ=.pdf\n",
      "ACFrOgB-HyyouVKN_pDn9PD5SPsjIIurmD5B9iB-j0FSKTowpvV1bCQnR9mTT8Y8y59w6rR-0qGNWZVPCRXJi2s-ysapNxHp8mpRBvDSX_A5waXIsH8ndVx6OphWYAo=.pdf\n",
      "ACFrOgBJW4oArIaLPE2RJ3VdYwNQnVw__wzSEzQlMnYhY1jbqlYAT9XpGaORTL7Kfnbqiu2Tpez-LLdGzbQ5HRP8izvROPCyECyXdbILE9boAzDiLiprCU9h3qvEDDo=.pdf\n",
      "ACFrOgBWZenYp9goTfOZ-StQJqg2d72CeQh-GPM8uCHqWE2rHpE1PAXWXsnO9irrvvM7ZiifwP8XfZQEqnpQ-dDh8x74MjnHGsEWgaCRBR41L-TN54i2rrjR1Gxyn7E=.pdf\n"
     ]
    }
   ],
   "source": [
    "for catalog in files:\n",
    "    print(catalog)"
   ]
  },
  {
   "cell_type": "code",
   "execution_count": 5,
   "metadata": {},
   "outputs": [],
   "source": [
    "def extractPdfFiles(files):\n",
    "    this_loc=1\n",
    "    df=pd.DataFrame(columns=(\"name\",\"content\"))\n",
    "    \n",
    "    for file in files:\n",
    "        pdfFileObj=open(file,'rb')\n",
    "        pdfReader=PyPDF2.PdfFileReader(pdfFileObj)\n",
    "        n_pages=pdfReader.numPages\n",
    "        this_doc=''\n",
    "        for i in range(n_pages):\n",
    "            pageObj=pdfReader.getPage(i)\n",
    "            this_text=pageObj.extractText()\n",
    "            this_doc+=this_text\n",
    "        df.loc[this_loc]=file,this_doc\n",
    "        this_loc=this_loc+1\n",
    "    return df"
   ]
  },
  {
   "cell_type": "code",
   "execution_count": 6,
   "metadata": {},
   "outputs": [],
   "source": [
    "df=extractPdfFiles(files)"
   ]
  },
  {
   "cell_type": "code",
   "execution_count": 7,
   "metadata": {},
   "outputs": [
    {
     "data": {
      "text/html": [
       "<div>\n",
       "<style scoped>\n",
       "    .dataframe tbody tr th:only-of-type {\n",
       "        vertical-align: middle;\n",
       "    }\n",
       "\n",
       "    .dataframe tbody tr th {\n",
       "        vertical-align: top;\n",
       "    }\n",
       "\n",
       "    .dataframe thead th {\n",
       "        text-align: right;\n",
       "    }\n",
       "</style>\n",
       "<table border=\"1\" class=\"dataframe\">\n",
       "  <thead>\n",
       "    <tr style=\"text-align: right;\">\n",
       "      <th></th>\n",
       "      <th>name</th>\n",
       "      <th>content</th>\n",
       "    </tr>\n",
       "  </thead>\n",
       "  <tbody>\n",
       "    <tr>\n",
       "      <th>1</th>\n",
       "      <td>ACFrOgAHo4sXcSv5qAOuMBr0uEWAOKGCh5NigeYzfP7TjO...</td>\n",
       "      <td>23\\n610203036\\n44\\n\\n48\\n52\\n\\n586470\\n2102\\n2...</td>\n",
       "    </tr>\n",
       "    <tr>\n",
       "      <th>2</th>\n",
       "      <td>ACFrOgAI3Y336GlEyJBySMpJQbsxFJY4OLPbBLCV53g7el...</td>\n",
       "      <td>\\n\\n\\n\\n\\n\\n\\n\\nNOXAAAA\\n H18-006T1\\n\\n\\n\\n\\n\\...</td>\n",
       "    </tr>\n",
       "    <tr>\n",
       "      <th>3</th>\n",
       "      <td>ACFrOgB-HyyouVKN_pDn9PD5SPsjIIurmD5B9iB-j0FSKT...</td>\n",
       "      <td>\\n\\n\\n\\n\\n\\n˛7˛7˛7˛7˛7˛7˛7˛7˛7˛7˛7˛7˛7˛7˛7˛7˛7...</td>\n",
       "    </tr>\n",
       "    <tr>\n",
       "      <th>4</th>\n",
       "      <td>ACFrOgBJW4oArIaLPE2RJ3VdYwNQnVw__wzSEzQlMnYhY1...</td>\n",
       "      <td>Shall we open, AP Windowby YKK AP\\n\\n\\n\\n\\n3\\n...</td>\n",
       "    </tr>\n",
       "    <tr>\n",
       "      <th>5</th>\n",
       "      <td>ACFrOgBWZenYp9goTfOZ-StQJqg2d72CeQh-GPM8uCHqWE...</td>\n",
       "      <td>\\n\\n\\n\\n\\n\\n\\n\\n\\n\\n\\n\\n\\n\\n\\n\\n\\n\\n\\n\\n\\n\\n\\n...</td>\n",
       "    </tr>\n",
       "  </tbody>\n",
       "</table>\n",
       "</div>"
      ],
      "text/plain": [
       "                                                name  \\\n",
       "1  ACFrOgAHo4sXcSv5qAOuMBr0uEWAOKGCh5NigeYzfP7TjO...   \n",
       "2  ACFrOgAI3Y336GlEyJBySMpJQbsxFJY4OLPbBLCV53g7el...   \n",
       "3  ACFrOgB-HyyouVKN_pDn9PD5SPsjIIurmD5B9iB-j0FSKT...   \n",
       "4  ACFrOgBJW4oArIaLPE2RJ3VdYwNQnVw__wzSEzQlMnYhY1...   \n",
       "5  ACFrOgBWZenYp9goTfOZ-StQJqg2d72CeQh-GPM8uCHqWE...   \n",
       "\n",
       "                                             content  \n",
       "1  23\\n610203036\\n44\\n\\n48\\n52\\n\\n586470\\n2102\\n2...  \n",
       "2  \\n\\n\\n\\n\\n\\n\\n\\nNOXAAAA\\n H18-006T1\\n\\n\\n\\n\\n\\...  \n",
       "3  \\n\\n\\n\\n\\n\\n˛7˛7˛7˛7˛7˛7˛7˛7˛7˛7˛7˛7˛7˛7˛7˛7˛7...  \n",
       "4  Shall we open, AP Windowby YKK AP\\n\\n\\n\\n\\n3\\n...  \n",
       "5  \\n\\n\\n\\n\\n\\n\\n\\n\\n\\n\\n\\n\\n\\n\\n\\n\\n\\n\\n\\n\\n\\n\\n...  "
      ]
     },
     "execution_count": 7,
     "metadata": {},
     "output_type": "execute_result"
    }
   ],
   "source": [
    "df.head()"
   ]
  },
  {
   "cell_type": "code",
   "execution_count": 8,
   "metadata": {},
   "outputs": [],
   "source": [
    "es=Elasticsearch()"
   ]
  },
  {
   "cell_type": "code",
   "execution_count": 9,
   "metadata": {},
   "outputs": [],
   "source": [
    "col_names=df.columns\n",
    "for row_number in range(df.shape[0]):\n",
    "    body=dict([(name,str(df.iloc[row_number][name])) for name in col_names])\n",
    "    es.index(index='catalogs',doc_type='doc',body=body)"
   ]
  },
  {
   "cell_type": "code",
   "execution_count": 32,
   "metadata": {},
   "outputs": [],
   "source": [
    "search_results=es.search(index='catalogs',doc_type='doc',\n",
    "                        body={\"_source\":\"name\",\n",
    "                             \"query\":{\n",
    "                                 \"match_phrase\":{\"content\":\"掲載内容\"},\n",
    "                             }\n",
    "                        })"
   ]
  },
  {
   "cell_type": "code",
   "execution_count": 33,
   "metadata": {},
   "outputs": [
    {
     "data": {
      "text/plain": [
       "{'took': 11,\n",
       " 'timed_out': False,\n",
       " '_shards': {'total': 5, 'successful': 5, 'skipped': 0, 'failed': 0},\n",
       " 'hits': {'total': 1,\n",
       "  'max_score': 1.8330884,\n",
       "  'hits': [{'_index': 'catalogs',\n",
       "    '_type': 'doc',\n",
       "    '_id': '458fc5922a961f24ec68d86b9cdfae7',\n",
       "    '_score': 1.8330884,\n",
       "    '_source': {}}]}}"
      ]
     },
     "execution_count": 33,
     "metadata": {},
     "output_type": "execute_result"
    }
   ],
   "source": [
    "search_results"
   ]
  },
  {
   "cell_type": "code",
   "execution_count": 34,
   "metadata": {},
   "outputs": [
    {
     "data": {
      "text/plain": [
       "1"
      ]
     },
     "execution_count": 34,
     "metadata": {},
     "output_type": "execute_result"
    }
   ],
   "source": [
    "search_results['hits']['total']"
   ]
  },
  {
   "cell_type": "code",
   "execution_count": null,
   "metadata": {},
   "outputs": [],
   "source": []
  },
  {
   "cell_type": "code",
   "execution_count": null,
   "metadata": {},
   "outputs": [],
   "source": []
  }
 ],
 "metadata": {
  "kernelspec": {
   "display_name": "Python 3",
   "language": "python",
   "name": "python3"
  },
  "language_info": {
   "codemirror_mode": {
    "name": "ipython",
    "version": 3
   },
   "file_extension": ".py",
   "mimetype": "text/x-python",
   "name": "python",
   "nbconvert_exporter": "python",
   "pygments_lexer": "ipython3",
   "version": "3.6.5"
  }
 },
 "nbformat": 4,
 "nbformat_minor": 2
}
